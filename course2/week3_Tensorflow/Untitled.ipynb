{
 "cells": [
  {
   "cell_type": "markdown",
   "metadata": {},
   "source": [
    "# Part.  1"
   ]
  },
  {
   "cell_type": "code",
   "execution_count": 4,
   "metadata": {},
   "outputs": [],
   "source": [
    "import math\n",
    "import numpy as np\n",
    "import h5py\n",
    "import matplotlib.pyplot as plt\n",
    "import tensorflow as tf\n",
    "from tensorflow.python.framework import ops\n",
    "from tf_utils import load_dataset, random_mini_batches, convert_to_one_hot, predict\n",
    "\n",
    "%matplotlib inline\n",
    "np.random.seed(1)"
   ]
  },
  {
   "cell_type": "code",
   "execution_count": 8,
   "metadata": {},
   "outputs": [
    {
     "name": "stdout",
     "output_type": "stream",
     "text": [
      "9\n"
     ]
    }
   ],
   "source": [
    "y_hat = tf.constant(36)\n",
    "y = tf.constant(39)\n",
    "\n",
    "loss = tf.Variable((y - y_hat)**2, name=\"loss\")\n",
    "\n",
    "init = tf.global_variables_initializer()\n",
    "\n",
    "with tf.Session() as session:\n",
    "    session.run(init)\n",
    "    print(session.run(loss))\n"
   ]
  },
  {
   "cell_type": "code",
   "execution_count": 9,
   "metadata": {},
   "outputs": [
    {
     "name": "stdout",
     "output_type": "stream",
     "text": [
      "Tensor(\"mul:0\", shape=(), dtype=int32)\n"
     ]
    }
   ],
   "source": [
    "a = tf.constant(2)\n",
    "b = tf.constant(10)\n",
    "c = a * b\n",
    "print(c)"
   ]
  },
  {
   "cell_type": "code",
   "execution_count": 21,
   "metadata": {},
   "outputs": [
    {
     "data": {
      "text/plain": [
       "20"
      ]
     },
     "execution_count": 21,
     "metadata": {},
     "output_type": "execute_result"
    }
   ],
   "source": [
    "sess = tf.Session()\n",
    "sess.run(c)"
   ]
  },
  {
   "cell_type": "code",
   "execution_count": 22,
   "metadata": {},
   "outputs": [
    {
     "name": "stdout",
     "output_type": "stream",
     "text": [
      "6\n"
     ]
    }
   ],
   "source": [
    "x = tf.placeholder(tf.int64, name = \"x\")\n",
    "print(sess.run(2 * x, feed_dict = {x: 3}))\n",
    "sess.close()"
   ]
  },
  {
   "cell_type": "code",
   "execution_count": 30,
   "metadata": {},
   "outputs": [
    {
     "name": "stdout",
     "output_type": "stream",
     "text": [
      "[[ 1.  1.]\n",
      " [ 1.  1.]\n",
      " [ 1.  1.]\n",
      " [ 1.  1.]]\n"
     ]
    }
   ],
   "source": [
    "def linear_func():\n",
    "    X = tf.constant(np.random.randn(3,2), name=\"X\")\n",
    "    \n",
    "    W = tf.constant(np.random.randn(4,3))\n",
    "    b = tf.constant(np.random.rand(4,1))\n",
    "    \n",
    "#     W = tf.constant(np.zeros((4,3)))\n",
    "#     b = tf.constant(np.ones((4,1)))\n",
    "    \n",
    "    rrr = 0\n",
    "    \n",
    "    with tf.Session() as sess:\n",
    "        rrr = sess.run(tf.matmul(W, X) + b)\n",
    "        sess.close()\n",
    "    \n",
    "    return rrr\n",
    "\n",
    "print(linear_func())"
   ]
  },
  {
   "cell_type": "code",
   "execution_count": 45,
   "metadata": {},
   "outputs": [
    {
     "name": "stdout",
     "output_type": "stream",
     "text": [
      "0.5 \t 0.999994\n"
     ]
    }
   ],
   "source": [
    "def sigmoid (z):\n",
    "    x = tf.placeholder(tf.float32, name=\"x\")\n",
    "#     y = tf.Variable(tf.sigmoid(x), name=\"y\")\n",
    "    \n",
    "    with tf.Session() as sess:\n",
    "        rrr = sess.run(tf.sigmoid(x), feed_dict = {x: z})\n",
    "        sess.close()\n",
    "        \n",
    "    return rrr\n",
    "\n",
    "print(sigmoid(0), '\\t', sigmoid(12))"
   ]
  },
  {
   "cell_type": "code",
   "execution_count": 46,
   "metadata": {},
   "outputs": [
    {
     "name": "stdout",
     "output_type": "stream",
     "text": [
      "[ 1.00538719  1.03664088  0.41385433  0.39956614]\n"
     ]
    }
   ],
   "source": [
    "def cost (logits, labels):\n",
    "    \"\"\"\n",
    "    NOTE\n",
    "    label = y from training sets (not y_hat)\n",
    "    logit = z from the linear output of the last layer\n",
    "    sigmoid(logit) = y_hat\n",
    "    \n",
    "    \"\"\"\n",
    "    \n",
    "    z = tf.placeholder(tf.float32, name=\"z\")\n",
    "    y = tf.placeholder(tf.float32, name=\"y\")\n",
    "    \n",
    "    \n",
    "    with tf.Session() as sess:\n",
    "        rrr = sess.run(tf.nn.sigmoid_cross_entropy_with_logits(logits = z, labels = y), feed_dict = {z: logits, y: labels})\n",
    "        sess.close()\n",
    "        \n",
    "    return rrr\n",
    "\n",
    "\n",
    "print(cost(sigmoid(np.array([0.2,0.4,0.7,0.9])), np.array([0,0,1,1])))\n"
   ]
  },
  {
   "cell_type": "code",
   "execution_count": 61,
   "metadata": {},
   "outputs": [
    {
     "name": "stdout",
     "output_type": "stream",
     "text": [
      "one_hot = [[ 0.  0.  0.  1.  0.  0.]\n",
      " [ 1.  0.  0.  0.  0.  1.]\n",
      " [ 0.  1.  0.  0.  1.  0.]\n",
      " [ 0.  0.  1.  0.  0.  0.]]\n"
     ]
    }
   ],
   "source": [
    "def one_hot_matrix(labels, C):\n",
    "    \n",
    "    oh = tf.one_hot(labels, C, axis= 0)\n",
    "    # oh = tf.one_hot(labels, C, 1 , 0, 0)\n",
    "    # the above is also OK, but, I dont know\n",
    "    \n",
    "    with tf.Session() as sess:\n",
    "        r = sess.run(oh)\n",
    "        sess.close()\n",
    "        return r\n",
    "        \n",
    "\n",
    "print (\"one_hot = \" + str(one_hot_matrix(np.array([1,2,3,0,2,1]), C = 4)))"
   ]
  },
  {
   "cell_type": "code",
   "execution_count": 62,
   "metadata": {},
   "outputs": [
    {
     "name": "stdout",
     "output_type": "stream",
     "text": [
      "[[ 1.  1.  1.]\n",
      " [ 1.  1.  1.]\n",
      " [ 1.  1.  1.]]\n"
     ]
    }
   ],
   "source": [
    "def ones(shape):\n",
    "    o = tf.ones(shape)\n",
    "    with tf.Session() as sess:\n",
    "        oo = sess.run(o)\n",
    "        sess.close()\n",
    "    \n",
    "    return oo\n",
    "\n",
    "print(ones((3,3)))"
   ]
  },
  {
   "cell_type": "markdown",
   "metadata": {},
   "source": [
    "# Part. 2\n",
    "\n",
    "`my_code.py`"
   ]
  },
  {
   "cell_type": "code",
   "execution_count": 63,
   "metadata": {},
   "outputs": [
    {
     "name": "stdout",
     "output_type": "stream",
     "text": [
      "y = 4\n"
     ]
    },
    {
     "data": {
      "image/png": "[encoded data removed]",
      "text/plain": [
       "<matplotlib.figure.Figure at 0x7ff7c8c23978>"
      ]
     },
     "metadata": {},
     "output_type": "display_data"
    }
   ],
   "source": [
    "# Loading the dataset\n",
    "X_train_orig, Y_train_orig, X_test_orig, Y_test_orig, classes = load_dataset()\n",
    "\n",
    "# Example of a picture\n",
    "plt.imshow(X_train_orig[5])\n",
    "print (\"y = \" + str(np.squeeze(Y_train_orig[:, 5])))"
   ]
  },
  {
   "cell_type": "markdown",
   "metadata": {},
   "source": [
    "## Run my_code.py"
   ]
  },
  {
   "cell_type": "code",
   "execution_count": 1,
   "metadata": {},
   "outputs": [],
   "source": [
    "import week3_mycode as myy"
   ]
  },
  {
   "cell_type": "code",
   "execution_count": 4,
   "metadata": {},
   "outputs": [
    {
     "name": "stdout",
     "output_type": "stream",
     "text": [
      "WARNING:tensorflow:From /home/xxh/桌面/PyNg/course2/week3_Tensorflow/week3_mycode.py:56: softmax_cross_entropy_with_logits (from tensorflow.python.ops.nn_ops) is deprecated and will be removed in a future version.\n",
      "Instructions for updating:\n",
      "\n",
      "Future major versions of TensorFlow will allow gradients to flow\n",
      "into the labels input on backprop by default.\n",
      "\n",
      "See tf.nn.softmax_cross_entropy_with_logits_v2.\n",
      "\n",
      "Cost_J\t 1.85570192698\n",
      "Cost_J\t 1.01641063799\n",
      "Cost_J\t 0.733256605538\n",
      "Cost_J\t 0.572957228531\n",
      "Cost_J\t 0.468874904694\n",
      "Cost_J\t 0.381079292659\n",
      "Cost_J\t 0.313950483095\n",
      "Cost_J\t 0.254522692525\n",
      "Cost_J\t 0.20410001436\n",
      "Cost_J\t 0.166603455038\n",
      "Cost_J\t 0.142352615794\n",
      "Cost_J\t 0.107728127503\n",
      "Cost_J\t 0.0859882365912\n",
      "Cost_J\t 0.0608975947129\n",
      "Cost_J\t 0.0510507831068\n"
     ]
    },
    {
     "data": {
      "image/png": "[encoded data removed]",
      "text/plain": [
       "<matplotlib.figure.Figure at 0x7f1ceb8d2f28>"
      ]
     },
     "metadata": {},
     "output_type": "display_data"
    },
    {
     "name": "stdout",
     "output_type": "stream",
     "text": [
      "Parameters have been trained!\n",
      "Train Accuracy: 0.999074\n",
      "Test Accuracy: 0.725\n"
     ]
    }
   ],
   "source": [
    "X_train = myy.X_train\n",
    "X_test = myy.X_test\n",
    "Y_train = myy.Y_train\n",
    "Y_test = myy.Y_test\n",
    "\n",
    "params = myy.my_model(X_train, Y_train, X_test, Y_test)\n"
   ]
  },
  {
   "cell_type": "code",
   "execution_count": 27,
   "metadata": {},
   "outputs": [
    {
     "name": "stdout",
     "output_type": "stream",
     "text": [
      "Your algorithm predicts: y = 3\n"
     ]
    },
    {
     "data": {
      "image/png": "[encoded data removed]",
      "text/plain": [
       "<matplotlib.figure.Figure at 0x7f1ce6961ac8>"
      ]
     },
     "metadata": {},
     "output_type": "display_data"
    }
   ],
   "source": [
    "import scipy\n",
    "from PIL import Image\n",
    "from scipy import ndimage\n",
    "import numpy as np\n",
    "import matplotlib.pyplot as plt\n",
    "from tf_utils import predict\n",
    "%matplotlib inline\n",
    "\n",
    "## START CODE HERE ## (PUT YOUR IMAGE NAME) \n",
    "my_image = \"thumbs_up_org.jpg\"\n",
    "my_image = \"my_image_5.jpg\"\n",
    "# my_image = \"thumbs_up.jpg\"\n",
    "## END CODE HERE ##\n",
    "\n",
    "# We preprocess your image to fit your algorithm.\n",
    "fname = \"images/\" + my_image\n",
    "image = np.array(ndimage.imread(fname, flatten=False))\n",
    "my_image = scipy.misc.imresize(image, size=(64,64))\n",
    "plt.imshow(my_image)\n",
    "my_image = my_image.reshape((1, 64*64*3)).T\n",
    "my_image_prediction = predict(my_image, params)\n",
    "\n",
    "\n",
    "print(\"Your algorithm predicts: y = \" + str(np.squeeze(my_image_prediction)))"
   ]
  },
  {
   "cell_type": "code",
   "execution_count": null,
   "metadata": {},
   "outputs": [],
   "source": []
  }
 ],
 "metadata": {
  "kernelspec": {
   "display_name": "Python 3",
   "language": "python",
   "name": "python3"
  },
  "language_info": {
   "codemirror_mode": {
    "name": "ipython",
    "version": 3
   },
   "file_extension": ".py",
   "mimetype": "text/x-python",
   "name": "python",
   "nbconvert_exporter": "python",
   "pygments_lexer": "ipython3",
   "version": "3.5.2"
  }
 },
 "nbformat": 4,
 "nbformat_minor": 2
}
